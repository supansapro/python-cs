{
 "cells": [
  {
   "cell_type": "code",
   "execution_count": null,
   "id": "80c78ef5",
   "metadata": {},
   "outputs": [],
   "source": [
    "\n",
    "def cal_grade(point):\n",
    "        if(point >= 80):\n",
    "         return \"A\"\n",
    "        elif(point >= 75):\n",
    "         return \"B+\"\n",
    "        elif(point >= 70):\n",
    "         return \"B\"\n",
    "        elif(point >= 65):\n",
    "         return \"C+\"\n",
    "        elif(point >= 60):\n",
    "         return \"C\"\n",
    "        elif(point >= 55):\n",
    "         return \"D+\"\n",
    "        elif(point >= 50):\n",
    "         return \"D\"\n",
    "        else:\n",
    "         return \"E\"\n",
    "   \n",
    "count = 0\n",
    "stop =2\n",
    "while (count < stop):\n",
    "\n",
    "   NameSD = input(\"กรอกชื่อนักศึกษา :\")\n",
    "   LNamSD = input(\"นามสกุล :\")\n",
    "   NumSD = input(\"รหัสนักศึกษา:\")\n",
    "   inp_point = input(\"กรอกคะแนน :\")\n",
    "   if(inp_point.isdigit()):\n",
    "       point = float(inp_point)\n",
    "\n",
    "       if(point >= 0 and point <= 100):\n",
    "        print(NameSD, LNamSD, NameSD, \"Grade \",cal_grade(point))\n",
    "       \n",
    "       else:\n",
    "        print(\"เงื่อนไขในการกรอกข้อมูลผิดพลาด\")\n",
    "   else:\n",
    "      print(\"False\") \n",
    "   count +=1"
   ]
  }
 ],
 "metadata": {
  "language_info": {
   "name": "python"
  }
 },
 "nbformat": 4,
 "nbformat_minor": 5
}

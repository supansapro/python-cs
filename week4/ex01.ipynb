{
 "cells": [
  {
   "cell_type": "code",
   "execution_count": 2,
   "id": "adab6e10",
   "metadata": {},
   "outputs": [
    {
     "name": "stdout",
     "output_type": "stream",
     "text": [
      "False\n",
      "สุ ย สุ Grade  B+\n"
     ]
    }
   ],
   "source": [
    "\n",
    "def cal_grade(point):\n",
    "        if(point >= 80):\n",
    "         return \"A\"\n",
    "        elif(point >= 75):\n",
    "         return \"B+\"\n",
    "        elif(point >= 70):\n",
    "         return \"B\"\n",
    "        elif(point >= 65):\n",
    "         return \"C+\"\n",
    "        elif(point >= 60):\n",
    "         return \"C\"\n",
    "        elif(point >= 55):\n",
    "         return \"D+\"\n",
    "        elif(point >= 50):\n",
    "         return \"D\"\n",
    "        else:\n",
    "         return \"E\"\n",
    "\n",
    "count = 0\n",
    "stop =2\n",
    "while (count < stop):\n",
    "\n",
    "   NameSD = input(\"กรอกชื่อนักศึกษา :\")\n",
    "   LNamSD = input(\"นามสกุล :\")\n",
    "   NumSD = input(\"รหัสนักศึกษา:\")\n",
    "   inp_point = input(\"กรอกคะแนน :\")\n",
    "   if(inp_point.isdigit()):\n",
    "      point = float(inp_point)\n",
    "\n",
    "      if(point >= 0 and point <= 100):\n",
    "       print(NameSD, LNamSD, NameSD, \"Grade \",cal_grade(point))\n",
    "      else:\n",
    "       print(\"เงื่อนไขในการกรอกข้อมูลผิดพลาด\")\n",
    "   else:\n",
    "      print(\"False\")\n",
    "   count +=1"
   ]
  }
 ],
 "metadata": {
  "kernelspec": {
   "display_name": "base",
   "language": "python",
   "name": "python3"
  },
  "language_info": {
   "codemirror_mode": {
    "name": "ipython",
    "version": 3
   },
   "file_extension": ".py",
   "mimetype": "text/x-python",
   "name": "python",
   "nbconvert_exporter": "python",
   "pygments_lexer": "ipython3",
   "version": "3.13.5"
  }
 },
 "nbformat": 4,
 "nbformat_minor": 5
}

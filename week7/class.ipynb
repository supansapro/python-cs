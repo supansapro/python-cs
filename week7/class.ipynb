{
 "cells": [
  {
   "cell_type": "code",
   "execution_count": null,
   "id": "371f51fd",
   "metadata": {},
   "outputs": [
    {
     "name": "stdout",
     "output_type": "stream",
     "text": [
      "5\n",
      "10\n"
     ]
    }
   ],
   "source": [
    "class myClass:\n",
    "    x =5\n",
    "    y = 10\n",
    "    \n",
    "c1 = myClass\n",
    "print(c1.x)\n",
    "print(c1.y)    "
   ]
  },
  {
   "cell_type": "code",
   "execution_count": 3,
   "id": "cfe52c64",
   "metadata": {},
   "outputs": [
    {
     "name": "stdout",
     "output_type": "stream",
     "text": [
      "Supansa\n",
      "20\n"
     ]
    }
   ],
   "source": [
    "class Person:\n",
    "    def __init__(self, name, age):\n",
    "        self.name = name\n",
    "        self.age = age\n",
    "p1 = Person(\"Supansa\",20)\n",
    "\n",
    "print(p1.name)\n",
    "print(p1.age)"
   ]
  },
  {
   "cell_type": "code",
   "execution_count": 10,
   "id": "bcf90e2e",
   "metadata": {},
   "outputs": [
    {
     "name": "stdout",
     "output_type": "stream",
     "text": [
      "['Honda', 'Nissan', 'Mitsubushi', 'Bmw']\n"
     ]
    }
   ],
   "source": [
    "class Person:\n",
    "    def __init__(self, name, age):\n",
    "        self.name = name\n",
    "        self.age = age\n",
    "\n",
    "    def printname(self):\n",
    "        print(self.name,self.age)\n",
    "    \n",
    "    def data_return(self, gender):\n",
    "        return self.name+\" \"+str(self.age)+\" \"+gender\n",
    "    \n",
    "    def profile(self, gender):\n",
    "        return \"gender :\"+gender\n",
    "    \n",
    "    class Cars:\n",
    "        def __init__(self, ):\n",
    "            self.car_array =[]\n",
    "        \n",
    "        def data_all(self):\n",
    "            return self.car_array\n",
    "        \n",
    "        def data_add(self, brand):\n",
    "            self.car_array.append(brand)\n",
    "        def data_insert(self, index, value):\n",
    "            self.car_array.insert(index, value)\n",
    "\n",
    "        def data_pop(self, index):\n",
    "            self.car_array.pop(index)    \n",
    "            \n",
    "    cars_data =  Cars()\n",
    "    cars_data.data_add(\"Honda\")\n",
    "    cars_data.data_add(\"Toyota\")\n",
    "    cars_data.data_add(\"Mitsubushi\")\n",
    "   \n",
    "    cars_data.data_insert(2, \"Nissan\")\n",
    "    cars_data.data_add(\"Bmw\")\n",
    "    cars_data.data_pop(1)\n",
    "\n",
    "    print(cars_data.data_all())\n",
    "        \n"
   ]
  }
 ],
 "metadata": {
  "kernelspec": {
   "display_name": "base",
   "language": "python",
   "name": "python3"
  },
  "language_info": {
   "codemirror_mode": {
    "name": "ipython",
    "version": 3
   },
   "file_extension": ".py",
   "mimetype": "text/x-python",
   "name": "python",
   "nbconvert_exporter": "python",
   "pygments_lexer": "ipython3",
   "version": "3.13.5"
  }
 },
 "nbformat": 4,
 "nbformat_minor": 5
}

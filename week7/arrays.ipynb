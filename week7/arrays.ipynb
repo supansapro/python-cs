{
 "cells": [
  {
   "cell_type": "code",
   "execution_count": null,
   "id": "0947b634",
   "metadata": {},
   "outputs": [
    {
     "name": "stdout",
     "output_type": "stream",
     "text": [
      "['ford', 'volvo', 'bmw']\n",
      "['ford', 'Toyota', 'bmw']\n",
      "3\n",
      "['ford', 'Toyota', 'bmw', 'Honda']\n"
     ]
    }
   ],
   "source": [
    "cars = [\"ford\", \"volvo\", \"bmw\"]\n",
    "cars_copy = cars.copy()\n",
    "print(\"backup data \")\n",
    "\n",
    "print(cars)\n",
    "\n",
    "cars[1] = \"Toyota\"\n",
    "\n",
    "print(cars)\n",
    "\n",
    "x = len(cars)\n",
    "\n",
    "print(x)\n",
    "\n",
    "cars.append(\"Honda\")\n",
    "\n",
    "print(cars) \n",
    "\n",
    "#cars.clear()\n",
    "\n",
    "#print(cars)\n",
    "\n"
   ]
  }
 ],
 "metadata": {
  "kernelspec": {
   "display_name": "base",
   "language": "python",
   "name": "python3"
  },
  "language_info": {
   "codemirror_mode": {
    "name": "ipython",
    "version": 3
   },
   "file_extension": ".py",
   "mimetype": "text/x-python",
   "name": "python",
   "nbconvert_exporter": "python",
   "pygments_lexer": "ipython3",
   "version": "3.13.5"
  }
 },
 "nbformat": 4,
 "nbformat_minor": 5
}

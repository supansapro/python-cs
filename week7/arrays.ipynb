{
 "cells": [
  {
   "cell_type": "code",
   "execution_count": null,
   "id": "0947b634",
   "metadata": {},
   "outputs": [
    {
     "name": "stdout",
     "output_type": "stream",
     "text": [
      "backup data <built-in method copy of list object at 0x000001D4C150F9C0>\n",
      "['ford', 'volvo', 'bmw']\n",
      "['ford', 'Toyota', 'bmw']\n",
      "3\n",
      "['ford', 'Toyota', 'bmw', 'Honda']\n",
      "None\n"
     ]
    }
   ],
   "source": [
    "cars = [\"ford\", \"volvo\", \"bmw\"]\n",
    "cars_copy = cars.copy()\n",
    "print(\"backup data\",cars.copy )\n",
    "\n",
    "print(cars)\n",
    "\n",
    "cars[1] = \"Toyota\"\n",
    "\n",
    "print(cars)\n",
    "\n",
    "x = len(cars)\n",
    "\n",
    "print(x)\n",
    "\n",
    "cars.append(\"Honda\")\n",
    "\n",
    "print(cars) \n",
    "\n",
    "#cars.clear()\n",
    "\n",
    "#print(cars)\n",
    "\n",
    "cars.sort(reverse=True)\n",
    "\n",
    "print(cars)"
   ]
  },
  {
   "cell_type": "code",
   "execution_count": 10,
   "id": "21459ea2",
   "metadata": {},
   "outputs": [
    {
     "name": "stdout",
     "output_type": "stream",
     "text": [
      "['ford', 'Toyota', 'Mitsubishi', 'bmw', 'Honda']\n",
      "['ford', 'Toyota', 'Mitsubishi', 'Honda']\n",
      "['Toyota', 'Mitsubishi', 'Honda']\n"
     ]
    }
   ],
   "source": [
    "cars.insert(2, \"Mitsubishi\")\n",
    "print(cars)\n",
    "\n",
    "cars.pop(3)\n",
    "print(cars)\n",
    "\n",
    "cars.remove('ford')\n",
    "print(cars)\n",
    "\n"
   ]
  }
 ],
 "metadata": {
  "kernelspec": {
   "display_name": "base",
   "language": "python",
   "name": "python3"
  },
  "language_info": {
   "codemirror_mode": {
    "name": "ipython",
    "version": 3
   },
   "file_extension": ".py",
   "mimetype": "text/x-python",
   "name": "python",
   "nbconvert_exporter": "python",
   "pygments_lexer": "ipython3",
   "version": "3.13.5"
  }
 },
 "nbformat": 4,
 "nbformat_minor": 5
}

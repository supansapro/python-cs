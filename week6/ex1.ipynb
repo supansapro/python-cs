{
 "cells": [
  {
   "cell_type": "code",
   "execution_count": 1,
   "id": "50431300",
   "metadata": {},
   "outputs": [
    {
     "name": "stdout",
     "output_type": "stream",
     "text": [
      "0\n",
      "1\n",
      "2\n",
      "3\n",
      "4\n",
      "5\n"
     ]
    }
   ],
   "source": [
    "for x in range(6):\n",
    "    print(x)"
   ]
  },
  {
   "cell_type": "code",
   "execution_count": null,
   "id": "95db73f9",
   "metadata": {},
   "outputs": [
    {
     "name": "stdout",
     "output_type": "stream",
     "text": [
      "2\n",
      "5\n",
      "8\n",
      "11\n",
      "14\n",
      "17\n",
      "20\n",
      "23\n",
      "26\n",
      "29\n"
     ]
    }
   ],
   "source": [
    "for x in range(2,10,2):\n",
    "    print(x)"
   ]
  },
  {
   "cell_type": "code",
   "execution_count": null,
   "id": "291c3fb5",
   "metadata": {},
   "outputs": [],
   "source": [
    "for x in range(6):\n",
    "    if(x == 3):\n",
    "        break\n",
    "    print(x)\n",
    "else:\n",
    "    print(\"finally finished\")"
   ]
  },
  {
   "cell_type": "code",
   "execution_count": null,
   "id": "c644da5d",
   "metadata": {},
   "outputs": [
    {
     "name": "stdout",
     "output_type": "stream",
     "text": [
      "apple is coloe rad\n",
      "banana is coloe yellow\n",
      "berry is coloe purple\n"
     ]
    }
   ],
   "source": [
    "fruits = [\"apple\",\"banana\", \"berry\"]\n",
    "adj = [\"rad\", \"yellow\", \"purple\"]\n",
    "j=0\n",
    "for  i in fruits:\n",
    "      print(i, \"is coloe\",adj[j]) \n",
    "      j = j+1      \n"
   ]
  },
  {
   "cell_type": "code",
   "execution_count": 21,
   "id": "34ac6af8",
   "metadata": {},
   "outputs": [],
   "source": [
    "fruits =[]\n",
    "adj = []\n",
    "j=0\n",
    "while True:\n",
    "    inp_state = input(\"press Q for end' or Enter to Any Input\")\n",
    "    if(inp_state.lower() == 'q'):\n",
    "        break\n",
    "    else:\n",
    "        inp1 = input(\"Fruit name is :\") \n",
    "        fruits.append (inp1)\n",
    "\n",
    "        inp2 = input(\"Color name is :\")\n",
    "        adj.append(inp2)\n",
    " \n"
   ]
  },
  {
   "cell_type": "code",
   "execution_count": 22,
   "id": "3b41db3e",
   "metadata": {},
   "outputs": [
    {
     "name": "stdout",
     "output_type": "stream",
     "text": [
      "apple is coloe rad\n",
      "banana is coloe yellow\n"
     ]
    }
   ],
   "source": [
    "j=0\n",
    "for  i in fruits:\n",
    "      print(i, \"is coloe\",adj[j]) \n",
    "      j = j+1  "
   ]
  },
  {
   "cell_type": "code",
   "execution_count": null,
   "id": "27f97f87",
   "metadata": {},
   "outputs": [],
   "source": [
    "#Lamda\n",
    "x = lambda a : a *10\n",
    "print(x(5))\n",
    "\n",
    "x = lambda x1, y1, x2,y2, x3,y3 : abs(x1*(y2-y3) + x2*(y3-y1)+ x3*(y1-y2))\n",
    "\n",
    "print(x(1,1, 4,1 1,5))"
   ]
  },
  {
   "cell_type": "code",
   "execution_count": 32,
   "id": "3b366eb2",
   "metadata": {},
   "outputs": [
    {
     "name": "stdout",
     "output_type": "stream",
     "text": [
      "sorted by Number :  [('apple', 5), ('banana', 2), ('cherry', 9)]\n"
     ]
    }
   ],
   "source": [
    "data = [(\"apple\",5), (\"banana\", 2), (\"cherry\", 9)]\n",
    "\n",
    "data.sort(key=lambda x:x[0])\n",
    "print(\"sorted by Number : \", data)"
   ]
  }
 ],
 "metadata": {
  "kernelspec": {
   "display_name": "base",
   "language": "python",
   "name": "python3"
  },
  "language_info": {
   "codemirror_mode": {
    "name": "ipython",
    "version": 3
   },
   "file_extension": ".py",
   "mimetype": "text/x-python",
   "name": "python",
   "nbconvert_exporter": "python",
   "pygments_lexer": "ipython3",
   "version": "3.13.5"
  }
 },
 "nbformat": 4,
 "nbformat_minor": 5
}

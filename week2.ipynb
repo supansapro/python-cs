{
 "cells": [
  {
   "cell_type": "code",
   "execution_count": 2,
   "id": "f6832f2b",
   "metadata": {},
   "outputs": [
    {
     "name": "stdout",
     "output_type": "stream",
     "text": [
      "5\n",
      "9.1\n"
     ]
    }
   ],
   "source": [
    "a = 1\n",
    "b = 2\n",
    "c = 3\n",
    "d = a\n",
    "e = d + b\n",
    "f = \"คะแนน\"\n",
    "\n",
    "array_from_mysql = \"11.1\"\n",
    "g = 2 \n",
    "total = float(array_from_mysql)- g \n",
    "print(5)\n",
    "\n",
    "print (total)"
   ]
  },
  {
   "cell_type": "code",
   "execution_count": 2,
   "id": "b161f80f",
   "metadata": {},
   "outputs": [
    {
     "name": "stdout",
     "output_type": "stream",
     "text": [
      "-9\n"
     ]
    }
   ],
   "source": [
    "def add (a, b):\n",
    "    c = a +b \n",
    "    return c\n",
    "def sub (a, b):\n",
    "    c = a - b\n",
    "    return c\n",
    "def div (a, b):\n",
    "    c = a / b\n",
    "    return c\n",
    "def mul (a, b):\n",
    "    c = a * b\n",
    "    return c\n",
    "\n",
    "a = int(input(\"input A : \"))\n",
    "b = int(input(\"input B : \"))\n",
    "\n",
    "c = mul(add(4,5), sub(4,5))\n",
    "print(c)"
   ]
  }
 ],
 "metadata": {
  "kernelspec": {
   "display_name": "base",
   "language": "python",
   "name": "python3"
  },
  "language_info": {
   "codemirror_mode": {
    "name": "ipython",
    "version": 3
   },
   "file_extension": ".py",
   "mimetype": "text/x-python",
   "name": "python",
   "nbconvert_exporter": "python",
   "pygments_lexer": "ipython3",
   "version": "3.13.5"
  }
 },
 "nbformat": 4,
 "nbformat_minor": 5
}

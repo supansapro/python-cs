{
 "cells": [
  {
   "cell_type": "code",
   "execution_count": 9,
   "id": "0ec122ef",
   "metadata": {},
   "outputs": [
    {
     "name": "stdout",
     "output_type": "stream",
     "text": [
      "<class 'bytearray'>\n"
     ]
    }
   ],
   "source": [
    "a = b\"test\"\n",
    "b = 1j\n",
    "c = [\"apple\", \"banana\", \"cherry\"]\n",
    "d = [\"apple\", \"banana\", \"cherry\"]\n",
    "e = range(6)\n",
    "f = {\"a\":\"apple\", \"b\":\"banana\", \"c\":\"cherry\"}\n",
    "g = {\"apple\", \"banana\", \"cherry\"}\n",
    "h = True\n",
    "i = b\"hello\"\n",
    "j = bytearray(5)\n",
    "k = memoryview (bytes(5))\n",
    "l = None\n",
    "\n",
    "print(type(j))"
   ]
  }
 ],
 "metadata": {
  "kernelspec": {
   "display_name": "base",
   "language": "python",
   "name": "python3"
  },
  "language_info": {
   "codemirror_mode": {
    "name": "ipython",
    "version": 3
   },
   "file_extension": ".py",
   "mimetype": "text/x-python",
   "name": "python",
   "nbconvert_exporter": "python",
   "pygments_lexer": "ipython3",
   "version": "3.13.5"
  }
 },
 "nbformat": 4,
 "nbformat_minor": 5
}

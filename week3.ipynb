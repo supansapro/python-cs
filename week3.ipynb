{
 "cells": [
  {
   "cell_type": "code",
   "execution_count": null,
   "id": "0ec122ef",
   "metadata": {},
   "outputs": [
    {
     "name": "stdout",
     "output_type": "stream",
     "text": [
      "<class 'frozenset'>\n"
     ]
    }
   ],
   "source": [
    "a = \"Hello World\"\n",
    "b = 20\n",
    "c = 20.5\n",
    "d = 1j\n",
    "e = [\"apple\", \"banana\", \"cherry\"]\n",
    "f = (\"apple\", \"banana\", \"cherry\")\n",
    "g = range(6)\n",
    "h = {\"a\":\"apple\", \"b\":\"banana\", \"c\":\"cherry\"}\n",
    "i ={\"apple\", \"banana\", \"cherry\"}\n",
    "j = frozenset({\"apple\", \"banana\", \"cherry\"})\n",
    "l = b\"hello\"\n",
    "m = bytearray(5)\n",
    "n = memoryview (bytes(5))\n",
    "o = None\n",
    "\n",
    "print(type(m))"
   ]
  }
 ],
 "metadata": {
  "kernelspec": {
   "display_name": "base",
   "language": "python",
   "name": "python3"
  },
  "language_info": {
   "codemirror_mode": {
    "name": "ipython",
    "version": 3
   },
   "file_extension": ".py",
   "mimetype": "text/x-python",
   "name": "python",
   "nbconvert_exporter": "python",
   "pygments_lexer": "ipython3",
   "version": "3.13.5"
  }
 },
 "nbformat": 4,
 "nbformat_minor": 5
}
